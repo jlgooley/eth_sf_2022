{
  "cells": [
    {
      "cell_type": "code",
      "execution_count": 1,
      "metadata": {
        "id": "aO5MgE4GOxHG"
      },
      "outputs": [],
      "source": [
        "from requests import get, post\n",
        "import pandas as pd"
      ]
    },
    {
      "cell_type": "code",
      "execution_count": 2,
      "metadata": {
        "id": "bqjZ4A7EOxHH"
      },
      "outputs": [],
      "source": [
        "API_KEY = \"2f3PjIXqVHCzmAi0a1gwrO4QUjY97RCX\"\n",
        "HEADER = {\"x-dune-api-key\" : API_KEY}"
      ]
    },
    {
      "cell_type": "code",
      "execution_count": 3,
      "metadata": {
        "id": "becbMgdAOxHH"
      },
      "outputs": [],
      "source": [
        "BASE_URL = \"https://api.dune.com/api/v1/\"\n",
        "\n",
        "def make_api_url(module, action, ID):\n",
        "    \"\"\"\n",
        "    We shall use this function to generate a URL to call the API.\n",
        "    \"\"\"\n",
        "\n",
        "    url = BASE_URL + module + \"/\" + ID + \"/\" + action\n",
        "\n",
        "    return url"
      ]
    },
    {
      "cell_type": "code",
      "execution_count": 4,
      "metadata": {
        "id": "woiRPRHbOxHI"
      },
      "outputs": [],
      "source": [
        "def execute_query(query_id):\n",
        "    \"\"\"\n",
        "    Takes in the query ID.\n",
        "    Calls the API to execute the query.\n",
        "    Returns the execution ID of the instance which is executing the query.\n",
        "    \"\"\"\n",
        "\n",
        "    url = make_api_url(\"query\", \"execute\", query_id)\n",
        "    response = post(url, headers=HEADER)\n",
        "    execution_id = response.json()['execution_id']\n",
        "\n",
        "    return execution_id\n",
        "\n",
        "\n",
        "def get_query_status(execution_id):\n",
        "    \"\"\"\n",
        "    Takes in an execution ID.\n",
        "    Fetches the status of query execution using the API\n",
        "    Returns the status response object\n",
        "    \"\"\"\n",
        "\n",
        "    url = make_api_url(\"execution\", \"status\", execution_id)\n",
        "    response = get(url, headers=HEADER)\n",
        "\n",
        "    return response\n",
        "\n",
        "\n",
        "def get_query_results(execution_id):\n",
        "    \"\"\"\n",
        "    Takes in an execution ID.\n",
        "    Fetches the results returned from the query using the API\n",
        "    Returns the results response object\n",
        "    \"\"\"\n",
        "\n",
        "    url = make_api_url(\"execution\", \"results\", execution_id)\n",
        "    response = get(url, headers=HEADER)\n",
        "\n",
        "    return response\n",
        "\n",
        "\n",
        "def cancel_query_execution(execution_id):\n",
        "    \"\"\"\n",
        "    Takes in an execution ID.\n",
        "    Cancels the ongoing execution of the query.\n",
        "    Returns the response object.\n",
        "    \"\"\"\n",
        "\n",
        "    url = make_api_url(\"execution\", \"cancel\", execution_id)\n",
        "    response = get(url, headers=HEADER)\n",
        "\n",
        "    return response"
      ]
    },
    {
      "cell_type": "code",
      "source": [
        "execution_id = execute_query(\"1532443\")\n",
        "execution_id"
      ],
      "metadata": {
        "colab": {
          "base_uri": "https://localhost:8080/",
          "height": 37
        },
        "id": "0vHf_rpdQ-vs",
        "outputId": "2c0cc450-cced-4758-a94c-0894a9bde316"
      },
      "execution_count": 27,
      "outputs": [
        {
          "output_type": "execute_result",
          "data": {
            "text/plain": [
              "'01GH5B26RKE9Q8Q00F1Y85CMK2'"
            ],
            "application/vnd.google.colaboratory.intrinsic+json": {
              "type": "string"
            }
          },
          "metadata": {},
          "execution_count": 27
        }
      ]
    },
    {
      "cell_type": "code",
      "source": [
        "#response = get_query_results(execution_id)\n",
        "#data = pd.DataFrame(response.json()['result']['rows'])\n",
        "#data"
      ],
      "metadata": {
        "id": "pHNyQc0mPERR"
      },
      "execution_count": 29,
      "outputs": []
    },
    {
      "cell_type": "code",
      "source": [],
      "metadata": {
        "id": "d281ZM11RS4z"
      },
      "execution_count": null,
      "outputs": []
    }
  ],
  "metadata": {
    "kernelspec": {
      "display_name": "Python 3.9.8 ('.venv': poetry)",
      "language": "python",
      "name": "python3"
    },
    "language_info": {
      "codemirror_mode": {
        "name": "ipython",
        "version": 3
      },
      "file_extension": ".py",
      "mimetype": "text/x-python",
      "name": "python",
      "nbconvert_exporter": "python",
      "pygments_lexer": "ipython3",
      "version": "3.9.8"
    },
    "orig_nbformat": 4,
    "vscode": {
      "interpreter": {
        "hash": "0618d28301bb131b96a80f41f1cf3613c6cb900a04f7823cea3af0b06fcd54ee"
      }
    },
    "colab": {
      "provenance": [],
      "collapsed_sections": []
    }
  },
  "nbformat": 4,
  "nbformat_minor": 0
}